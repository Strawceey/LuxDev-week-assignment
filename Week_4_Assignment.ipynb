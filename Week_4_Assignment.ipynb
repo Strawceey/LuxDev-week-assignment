{
  "nbformat": 4,
  "nbformat_minor": 0,
  "metadata": {
    "colab": {
      "provenance": []
    },
    "kernelspec": {
      "name": "python3",
      "display_name": "Python 3"
    },
    "language_info": {
      "name": "python"
    }
  },
  "cells": [
    {
      "cell_type": "markdown",
      "source": [
        "Write a Python program to check whether a string is a palindrome or not using a stack.\n",
        "PS: Pay attention to the specified data structure."
      ],
      "metadata": {
        "id": "ubpga-sxu4Uo"
      }
    },
    {
      "cell_type": "code",
      "execution_count": 2,
      "metadata": {
        "colab": {
          "base_uri": "https://localhost:8080/"
        },
        "id": "IYe-jOvjtwjt",
        "outputId": "5a302a31-c620-4ad0-8118-b901f1a4a35e"
      },
      "outputs": [
        {
          "output_type": "stream",
          "name": "stdout",
          "text": [
            "The string 'racecar' is a palindrome.\n"
          ]
        }
      ],
      "source": [
        "class Stack:\n",
        "    def __init__(self):\n",
        "        self.items = []\n",
        "\n",
        "    def push(self, item):\n",
        "        self.items.append(item)\n",
        "\n",
        "    def pop(self):\n",
        "        if not self.is_empty():\n",
        "            return self.items.pop()\n",
        "        return None\n",
        "\n",
        "    def is_empty(self):\n",
        "        return len(self.items) == 0\n",
        "\n",
        "    def size(self):\n",
        "        return len(self.items)\n",
        "\n",
        "def is_palindrome(string):\n",
        "    stack = Stack()\n",
        "\n",
        "    # Push all characters of the string onto the stack\n",
        "    for char in string:\n",
        "        stack.push(char)\n",
        "\n",
        "    # Pop characters from the stack to form the reversed string\n",
        "    reversed_string = \"\"\n",
        "    while not stack.is_empty():\n",
        "        reversed_string += stack.pop()\n",
        "\n",
        "    # Check if the original string is equal to the reversed string\n",
        "    return string == reversed_string\n",
        "\n",
        "# Example usage\n",
        "input_string = \"racecar\"\n",
        "if is_palindrome(input_string):\n",
        "    print(f\"The string '{input_string}' is a palindrome.\")\n",
        "else:\n",
        "    print(f\"The string '{input_string}' is not a palindrome.\")\n"
      ]
    },
    {
      "cell_type": "markdown",
      "source": [
        "**2.Explain the concept of list comprehension in Python with at least three examples.**\n",
        "List comprehension is a concise and elegant way to create lists in Python. It allows you to generate a new list by applying an expression to each item in an existing iterable (like a list, tuple, or string) and optionally filtering the items based on a condition.\n",
        "The basic syntax of list comprehension is:\n",
        "Expression: The expression that produces elements of the new list.\n",
        "Item: The variable that takes the value of each element in the iterable.\n",
        "Iterable: The collection you are iterating over (like a list or a range).\n",
        "Condition (optional): A filter that determines whether to include the item in the new list.\n",
        "\n",
        "**Examples of List Comprehension**\n",
        "\n",
        "1. Create a list of squares from numbers 0 to 9\n"
      ],
      "metadata": {
        "id": "NO5SEFjmvZF7"
      }
    },
    {
      "cell_type": "code",
      "source": [
        "squares = [x**2 for x in range(10)]\n",
        "print(squares)"
      ],
      "metadata": {
        "colab": {
          "base_uri": "https://localhost:8080/"
        },
        "id": "FB5Ju0zByQlM",
        "outputId": "c3fc6cbd-5444-49e9-c24c-9465dcedcc01"
      },
      "execution_count": 4,
      "outputs": [
        {
          "output_type": "stream",
          "name": "stdout",
          "text": [
            "[0, 1, 4, 9, 16, 25, 36, 49, 64, 81]\n"
          ]
        }
      ]
    },
    {
      "cell_type": "markdown",
      "source": [
        "x**2 is the expression, for x in range(10) iterates over the numbers from 0 to 9, and the result is a list of their squares."
      ],
      "metadata": {
        "id": "KfbzWQIpyjQ0"
      }
    },
    {
      "cell_type": "markdown",
      "source": [
        "2. Example 2: Filtering even numbers. You can use it to create a list  to filter elements based on a condition. For instance, to create a list of even numbers from 0 to 20:"
      ],
      "metadata": {
        "id": "SZdyvYYWyrTP"
      }
    },
    {
      "cell_type": "code",
      "source": [
        "even_numbers = [x for x in range(21) if x % 2 == 0]\n",
        "print(even_numbers)"
      ],
      "metadata": {
        "colab": {
          "base_uri": "https://localhost:8080/"
        },
        "id": "0qByxP9xzGFB",
        "outputId": "26ab33f0-4b1b-4877-fd0d-b5dee70cbfe9"
      },
      "execution_count": 6,
      "outputs": [
        {
          "output_type": "stream",
          "name": "stdout",
          "text": [
            "[0, 2, 4, 6, 8, 10, 12, 14, 16, 18, 20]\n"
          ]
        }
      ]
    },
    {
      "cell_type": "markdown",
      "source": [
        "the condition if x % 2 == 0 ensures that only even numbers are included in the new list."
      ],
      "metadata": {
        "id": "LfWU7W69zcb2"
      }
    },
    {
      "cell_type": "markdown",
      "source": [
        "3. Example 3: Transforming Elements to Upper Case which converts a list of words to uppercase."
      ],
      "metadata": {
        "id": "1E8H3hjlzeGB"
      }
    },
    {
      "cell_type": "code",
      "source": [
        "words = [\"hello\", \"world\", \"python\", \"list\", \"comprehension\"]\n",
        "uppercase_words = [word.upper() for word in words]\n",
        "print(uppercase_words)"
      ],
      "metadata": {
        "colab": {
          "base_uri": "https://localhost:8080/"
        },
        "id": "pWUA-71Xzugq",
        "outputId": "e78f6680-df29-4c3e-d219-0e91dd267037"
      },
      "execution_count": 7,
      "outputs": [
        {
          "output_type": "stream",
          "name": "stdout",
          "text": [
            "['HELLO', 'WORLD', 'PYTHON', 'LIST', 'COMPREHENSION']\n"
          ]
        }
      ]
    },
    {
      "cell_type": "markdown",
      "source": [
        "**3. Explain what a compound datatype is in Python with three examples.**\n",
        " a compound data type is a type of data that is made up of multiple values or data types. It can store a collection of items, allowing you to group data together in a structured way.\n",
        "\n",
        "Examples\n",
        "\n",
        "Lists- ordered collection of items that can be of different types. Lists are mutable, meaning their contents can be changed after creation.\n",
        "Tuples- ordered, immutable sequences. They are similar to lists but cannot be changed after creation.\n",
        "Dictionaries- unordered collections of key-value pairs. Each key is unique, and it can be of any immutable datatype, while the associated value can be of any datatype. Dictionaries are mutable, allowing for dynamic changes."
      ],
      "metadata": {
        "id": "EIAy5FCGz9Sm"
      }
    },
    {
      "cell_type": "markdown",
      "source": [
        "**4. Write a function that takes a string and returns a list of bigrams.**"
      ],
      "metadata": {
        "id": "issTI6RnEaYG"
      }
    },
    {
      "cell_type": "code",
      "source": [
        "def get_bigrams(text):\n",
        "    # Remove whitespace and convert to lowercase\n",
        "    text = text.replace(\" \", \"\").lower()\n",
        "\n",
        "    # Generate bigrams\n",
        "    bigrams = [text[i:i+2] for i in range(len(text)-1)]\n",
        "\n",
        "    return bigrams\n",
        "\n",
        "# Test the function\n",
        "test_string = \"Cynthia is amazing\"\n",
        "result = get_bigrams(test_string)\n",
        "print(f\"Bigrams of '{test_string}': {result}\")"
      ],
      "metadata": {
        "colab": {
          "base_uri": "https://localhost:8080/"
        },
        "id": "p8eKxprxHCkj",
        "outputId": "42305d7b-129a-45cf-ebbb-f66acbfcf352"
      },
      "execution_count": 8,
      "outputs": [
        {
          "output_type": "stream",
          "name": "stdout",
          "text": [
            "Bigrams of 'Cynthia is amazing': ['cy', 'yn', 'nt', 'th', 'hi', 'ia', 'ai', 'is', 'sa', 'am', 'ma', 'az', 'zi', 'in', 'ng']\n"
          ]
        }
      ]
    },
    {
      "cell_type": "markdown",
      "source": [
        "**5.  Given a dictionary with keys as letters and values as lists of letters, write a function closest_key to find the key with the input value closest to the beginning of the list.**\n"
      ],
      "metadata": {
        "id": "pxS07sLEHWmf"
      }
    },
    {
      "cell_type": "code",
      "source": [
        "def closest_key(dictionary, value):\n",
        "    min_index = float('inf')\n",
        "    closest_key = None\n",
        "\n",
        "    for key, letter_list in dictionary.items():\n",
        "        if value in letter_list:\n",
        "            current_index = letter_list.index(value)\n",
        "            if current_index < min_index:\n",
        "                min_index = current_index\n",
        "                closest_key = key\n",
        "\n",
        "    return closest_key\n",
        "\n",
        "# Test the function\n",
        "test_dict = {\n",
        "    'A': ['a', 'b', 'c', 'd'],\n",
        "    'B': ['b', 'a', 'c', 'd'],\n",
        "    'C': ['c', 'a', 'b', 'd'],\n",
        "    'D': ['d', 'a', 'b', 'c']\n",
        "}\n",
        "\n",
        "test_value = 'a'\n",
        "result = closest_key(test_dict, test_value)\n",
        "print(f\"The key with '{test_value}' closest to the beginning is: {result}\")"
      ],
      "metadata": {
        "colab": {
          "base_uri": "https://localhost:8080/"
        },
        "id": "46L4VfZFIDOp",
        "outputId": "c0bcb617-97c5-4d57-d3a6-98c2b46bf3e4"
      },
      "execution_count": 9,
      "outputs": [
        {
          "output_type": "stream",
          "name": "stdout",
          "text": [
            "The key with 'a' closest to the beginning is: A\n"
          ]
        }
      ]
    }
  ]
}